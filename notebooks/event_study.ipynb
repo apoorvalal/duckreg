{
 "cells": [
  {
   "cell_type": "code",
   "execution_count": 1,
   "metadata": {},
   "outputs": [
    {
     "data": {
      "text/html": [
       "\n",
       "            <div id=\"661umq\"></div>\n",
       "            <script type=\"text/javascript\" data-lets-plot-script=\"library\">\n",
       "                if(!window.letsPlotCallQueue) {\n",
       "                    window.letsPlotCallQueue = [];\n",
       "                }; \n",
       "                window.letsPlotCall = function(f) {\n",
       "                    window.letsPlotCallQueue.push(f);\n",
       "                };\n",
       "                (function() {\n",
       "                    var script = document.createElement(\"script\");\n",
       "                    script.type = \"text/javascript\";\n",
       "                    script.src = \"https://cdn.jsdelivr.net/gh/JetBrains/lets-plot@v4.3.3/js-package/distr/lets-plot.min.js\";\n",
       "                    script.onload = function() {\n",
       "                        window.letsPlotCall = function(f) {f();};\n",
       "                        window.letsPlotCallQueue.forEach(function(f) {f();});\n",
       "                        window.letsPlotCallQueue = [];\n",
       "                        \n",
       "                    };\n",
       "                    script.onerror = function(event) {\n",
       "                        window.letsPlotCall = function(f) {};    // noop\n",
       "                        window.letsPlotCallQueue = [];\n",
       "                        var div = document.createElement(\"div\");\n",
       "                        div.style.color = 'darkred';\n",
       "                        div.textContent = 'Error loading Lets-Plot JS';\n",
       "                        document.getElementById(\"661umq\").appendChild(div);\n",
       "                    };\n",
       "                    var e = document.getElementById(\"661umq\");\n",
       "                    e.appendChild(script);\n",
       "                })()\n",
       "            </script>\n",
       "            "
      ]
     },
     "metadata": {},
     "output_type": "display_data"
    },
    {
     "data": {
      "text/html": [
       "\n",
       "            <div id=\"y6PeUI\"></div>\n",
       "            <script type=\"text/javascript\" data-lets-plot-script=\"library\">\n",
       "                if(!window.letsPlotCallQueue) {\n",
       "                    window.letsPlotCallQueue = [];\n",
       "                }; \n",
       "                window.letsPlotCall = function(f) {\n",
       "                    window.letsPlotCallQueue.push(f);\n",
       "                };\n",
       "                (function() {\n",
       "                    var script = document.createElement(\"script\");\n",
       "                    script.type = \"text/javascript\";\n",
       "                    script.src = \"https://cdn.jsdelivr.net/gh/JetBrains/lets-plot@v4.3.3/js-package/distr/lets-plot.min.js\";\n",
       "                    script.onload = function() {\n",
       "                        window.letsPlotCall = function(f) {f();};\n",
       "                        window.letsPlotCallQueue.forEach(function(f) {f();});\n",
       "                        window.letsPlotCallQueue = [];\n",
       "                        \n",
       "                    };\n",
       "                    script.onerror = function(event) {\n",
       "                        window.letsPlotCall = function(f) {};    // noop\n",
       "                        window.letsPlotCallQueue = [];\n",
       "                        var div = document.createElement(\"div\");\n",
       "                        div.style.color = 'darkred';\n",
       "                        div.textContent = 'Error loading Lets-Plot JS';\n",
       "                        document.getElementById(\"y6PeUI\").appendChild(div);\n",
       "                    };\n",
       "                    var e = document.getElementById(\"y6PeUI\");\n",
       "                    e.appendChild(script);\n",
       "                })()\n",
       "            </script>\n",
       "            "
      ]
     },
     "metadata": {},
     "output_type": "display_data"
    }
   ],
   "source": [
    "import numpy as np\n",
    "import pandas as pd\n",
    "import matplotlib.pyplot as plt\n",
    "from duckreg.estimators import DuckMundlak, DuckDoubleDemeaning\n",
    "import duckdb\n",
    "import pyfixest as pf\n",
    "\n",
    "np.random.seed(42)"
   ]
  },
  {
   "cell_type": "code",
   "execution_count": 2,
   "metadata": {},
   "outputs": [],
   "source": [
    "def panel_dgp(\n",
    "    num_units=1000,\n",
    "    num_periods=30,\n",
    "    num_treated=50,\n",
    "    treatment_start=15,\n",
    "    hetfx=False,\n",
    "    base_treatment_effect=np.repeat(0, 15),\n",
    "    ar_coef=0.2,  # Autoregressive coefficient for epsilon_it\n",
    "    sigma_unit=1,\n",
    "    sigma_time=0.5,\n",
    "    sigma_epsilon = 0.5,  # Standard deviation of epsilon_it\n",
    "):\n",
    "    unit_intercepts = np.random.normal(0, sigma_unit, num_units)\n",
    "\n",
    "    # Generate day-of-the-week pattern\n",
    "    day_effects = np.array([-0.1, 0.1, 0, 0, 0.1, 0.5, 0.5])  # Stronger effects on weekends\n",
    "    day_pattern = np.tile(day_effects, num_periods // 7 + 1)[:num_periods]\n",
    "\n",
    "    # Generate autoregressive structure\n",
    "    ar_coef_time = 0.2\n",
    "    ar_noise_time = np.random.normal(0, sigma_time, num_periods)\n",
    "    time_intercepts = np.zeros(num_periods)\n",
    "    time_intercepts[0] = ar_noise_time[0]\n",
    "    for t in range(1, num_periods):\n",
    "        time_intercepts[t] = ar_coef_time * time_intercepts[t - 1] + ar_noise_time[t]\n",
    "    # Combine day-of-the-week pattern and autoregressive structure\n",
    "    time_intercepts = day_pattern + time_intercepts - np.mean(time_intercepts)\n",
    "    # Generate autoregressive noise for each unit\n",
    "    ar_noise = np.random.normal(0, sigma_epsilon, (num_units, num_periods))\n",
    "    noise = np.zeros((num_units, num_periods))\n",
    "    noise[:, 0] = ar_noise[:, 0]\n",
    "    for t in range(1, num_periods):\n",
    "        noise[:, t] = ar_coef * noise[:, t - 1] + ar_noise[:, t]\n",
    "    # N X T matrix of potential outcomes under control\n",
    "    Y0 = unit_intercepts[:, np.newaxis] + time_intercepts[np.newaxis, :] + noise\n",
    "    # Generate the base treatment effect (concave structure)\n",
    "    # Generate heterogeneous multipliers for each unit\n",
    "    if hetfx:\n",
    "        heterogeneous_multipliers = np.random.uniform(0.5, 1.5, num_units)\n",
    "    else:\n",
    "        heterogeneous_multipliers = np.ones(num_units)\n",
    "\n",
    "    # Create a 2D array to store the heterogeneous treatment effects\n",
    "    treatment_effect = np.zeros((num_units, num_periods - treatment_start))\n",
    "    for i in range(num_units):\n",
    "        treatment_effect[i, :] = heterogeneous_multipliers[i] * base_treatment_effect\n",
    "\n",
    "    # random assignment\n",
    "    treated_units = np.random.choice(num_units, num_treated, replace=False)\n",
    "    treatment_status = np.zeros((num_units, num_periods), dtype=bool)\n",
    "    treatment_status[treated_units, treatment_start:] = True\n",
    "\n",
    "    # Apply the heterogeneous treatment effect to the treated units\n",
    "    Y1 = Y0.copy()\n",
    "    for t in range(treatment_start, num_periods):\n",
    "        Y1[:, t][treatment_status[:, t]] += treatment_effect[:, t - treatment_start][\n",
    "            treatment_status[:, t]\n",
    "        ]\n",
    "\n",
    "    # Create a DataFrame\n",
    "    unit_ids = np.repeat(np.arange(num_units), num_periods)\n",
    "    time_ids = np.tile(np.arange(num_periods), num_units)\n",
    "    W_it = treatment_status.flatten()\n",
    "    Y_it = np.where(W_it, Y1.flatten(), Y0.flatten())\n",
    "    unit_intercepts_flat = np.repeat(unit_intercepts, num_periods)\n",
    "    time_intercepts_flat = np.tile(time_intercepts, num_units)\n",
    "    df = pd.DataFrame(\n",
    "        {\n",
    "            \"unit_id\": unit_ids,\n",
    "            \"time_id\": time_ids,\n",
    "            \"W_it\": W_it.astype(int),\n",
    "            \"Y_it\": Y_it,\n",
    "            \"unit_intercept\": unit_intercepts_flat,\n",
    "            \"time_intercept\": time_intercepts_flat,\n",
    "        }\n",
    "    )\n",
    "    # assign units to ever treated if the max of W_it is 1\n",
    "    df[\"ever_treated\"] = df.groupby(\"unit_id\")[\"W_it\"].transform(\"max\")\n",
    "    return df\n",
    "\n",
    "# Function to create and populate DuckDB database\n",
    "def create_duckdb_database(df, db_name=\"large_dataset.db\", table=\"panel_data\"):\n",
    "    conn = duckdb.connect(db_name)\n",
    "    conn.execute(f\"DROP TABLE IF EXISTS {table}\")\n",
    "    conn.execute(f\"CREATE TABLE {table} AS SELECT * FROM df\")\n",
    "    conn.close()\n",
    "    print(f\"Data loaded into DuckDB database: {db_name}\")"
   ]
  },
  {
   "cell_type": "code",
   "execution_count": 3,
   "metadata": {},
   "outputs": [
    {
     "data": {
      "text/plain": [
       "np.float64(0.21533040462966416)"
      ]
     },
     "execution_count": 3,
     "metadata": {},
     "output_type": "execute_result"
    }
   ],
   "source": [
    "num_periods = 30\n",
    "treat_start_period = 15\n",
    "treat_effect_vector= 0.2 * np.log(2 * np.arange(1, num_periods - treat_start_period + 1))\n",
    "treat_effect_vector[8:] = 0 # switch off effects after a week\n",
    "sigma_i, sigma_t = 2, 1\n",
    "treat_effect_vector.mean()"
   ]
  },
  {
   "cell_type": "code",
   "execution_count": 4,
   "metadata": {},
   "outputs": [
    {
     "name": "stdout",
     "output_type": "stream",
     "text": [
      "Data loaded into DuckDB database: event_study_data.db\n"
     ]
    }
   ],
   "source": [
    "df = panel_dgp(\n",
    "    num_units=100_000, num_treated= 50_000,\n",
    "    num_periods=30,\n",
    "    treatment_start = treat_start_period,\n",
    "    hetfx=False,\n",
    "    base_treatment_effect = treat_effect_vector,\n",
    "    sigma_unit = sigma_i, sigma_time = sigma_t,\n",
    ")\n",
    "\n",
    "db_name = 'event_study_data.db'\n",
    "create_duckdb_database(df, db_name)\n",
    "df = df.merge(\n",
    "    pd.get_dummies(df[\"time_id\"], prefix=\"time\"), left_index=True, right_index=True\n",
    ")\n",
    "time_dummies = df.filter(regex = r\"time_\\d\").columns"
   ]
  },
  {
   "cell_type": "markdown",
   "metadata": {},
   "source": [
    "### in-memory estimation\n",
    "\n",
    "Eq 5.13 in Wooldridge\n",
    "\n",
    "$$\n",
    "Y_{it} = \\alpha + \\xi d_i + \\beta_q(d_i fq_t) + \\dots + \\beta_T(d_i fT_t) + \\theta_0 fq_t + \\theta_T fT_t + \\epsilon_{it}\n",
    "$$\n",
    "\n",
    "where $\\beta$ coefficients are the event study coefficients."
   ]
  },
  {
   "cell_type": "code",
   "execution_count": 5,
   "metadata": {},
   "outputs": [
    {
     "name": "stdout",
     "output_type": "stream",
     "text": [
      "\n",
      "        Y_it ~ ever_treated*(time_0 + time_1 + time_2 + time_3 + time_4 + time_5 + time_6 + time_7 + time_8 + time_9 + time_10 + time_11 + time_12 + time_13 + time_14 + time_15 + time_16 + time_17 + time_18 + time_19 + time_20 + time_21 + time_22 + time_23 + time_24 + time_25 + time_26 + time_27 + time_28 + time_29)\n",
      "         \n"
     ]
    },
    {
     "name": "stderr",
     "output_type": "stream",
     "text": [
      "/home/alal/Desktop/code/econometrics/pyfixest/pyfixest/estimation/feols_.py:2324: UserWarning: \n",
      "            The following variables are collinear: ['time_29'].\n",
      "            The variables are dropped from the model.\n",
      "            \n",
      "  warnings.warn(\n",
      "/home/alal/Desktop/code/econometrics/pyfixest/pyfixest/estimation/feols_.py:727: RuntimeWarning: invalid value encountered in sqrt\n",
      "  self._se = np.sqrt(np.diagonal(_vcov))\n"
     ]
    }
   ],
   "source": [
    "print(ff := f\"\"\"\n",
    "        Y_it ~ ever_treated*({' + '.join(time_dummies)})\n",
    "         \"\"\")\n",
    "m = pf.feols(ff, data = df)"
   ]
  },
  {
   "cell_type": "markdown",
   "metadata": {},
   "source": [
    "Event study regression"
   ]
  },
  {
   "cell_type": "code",
   "execution_count": 6,
   "metadata": {},
   "outputs": [],
   "source": [
    "m2 = pf.feols(\"\"\"\n",
    "              Y_it ~ i(time_id, ever_treated,  ref = 14) |\n",
    "                unit_id + time_id\n",
    "              \"\"\",\n",
    "              df\n",
    "             )\n",
    "evstudy_coefs = m2.coef().values\n",
    "# insert zero in reference period\n",
    "evstudy_coefs = np.insert(evstudy_coefs, 14, 0)"
   ]
  },
  {
   "cell_type": "code",
   "execution_count": 11,
   "metadata": {},
   "outputs": [
    {
     "data": {
      "text/plain": [
       "<matplotlib.legend.Legend at 0x71b7fb5a5ca0>"
      ]
     },
     "execution_count": 11,
     "metadata": {},
     "output_type": "execute_result"
    },
    {
     "data": {
      "image/png": "[encoded data removed]",
      "text/plain": [
       "<Figure size 1000x600 with 1 Axes>"
      ]
     },
     "metadata": {},
     "output_type": "display_data"
    }
   ],
   "source": [
    "p0 = np.r_[np.zeros(15), treat_effect_vector]\n",
    "p1 = m.coef().filter(regex=r\"ever_treated:time_\\d\").values\n",
    "\n",
    "\n",
    "p2 = (\n",
    "    df.groupby([\"ever_treated\", \"time_id\"])[\"Y_it\"]\n",
    "    .mean()\n",
    "    .unstack()\n",
    "    .diff(axis=0)\n",
    "    .iloc[1, :]\n",
    "    .values\n",
    ")\n",
    "f, ax = plt.subplots(figsize = (10, 6))\n",
    "ax.plot(p0, marker=\".\", label=\"True\", linewidth=2)\n",
    "ax.plot(p2, marker=\".\", alpha=0.3, label=\"Difference in means\")\n",
    "ax.plot(p1, marker=\".\", alpha=0.3, label=\"Two-way-Mundlak Regression (no offset)\")\n",
    "ax.plot(\n",
    "    p1 + m.coef().filter(regex=\"ever_treated$\").values,\n",
    "    marker=\".\",\n",
    "    alpha=0.3,\n",
    "    label=\"Two-way-Mundlak Regression (with offset)\",\n",
    ")\n",
    "ax.plot(evstudy_coefs, marker=\".\", alpha=0.3, label=\"Event Study\")\n",
    "ax.legend()"
   ]
  },
  {
   "cell_type": "markdown",
   "metadata": {},
   "source": [
    "We get the same coefficient once we offset the $\\beta$ vector with $\\xi$. \n",
    "\n",
    "So, the gameplan is to groupby (cohort, time) and run the compressed regression by weighted least squares."
   ]
  },
  {
   "cell_type": "markdown",
   "metadata": {},
   "source": [
    "## Duckdb queries\n",
    "\n",
    "In progress"
   ]
  },
  {
   "cell_type": "code",
   "execution_count": 5,
   "metadata": {},
   "outputs": [
    {
     "name": "stderr",
     "output_type": "stream",
     "text": [
      "100%|██████████| 50/50 [00:05<00:00,  9.52it/s]\n"
     ]
    }
   ],
   "source": [
    "twm = DuckMundlak(\n",
    "  db_name = db_name,\n",
    "  table_name = 'panel_data',\n",
    "  outcome_var='Y_it',\n",
    "  unit_col = 'unit_id',\n",
    "  time_col = 'time_id',\n",
    "  covariates=[\"W_it\"],\n",
    "  cluster_col=\"unit_id\",\n",
    "  n_bootstraps=50,\n",
    "  seed=42,\n",
    "  keep_connection_open=True,\n",
    ")\n",
    "\n",
    "twm.fit()"
   ]
  },
  {
   "cell_type": "code",
   "execution_count": 6,
   "metadata": {},
   "outputs": [
    {
     "data": {
      "text/plain": [
       "point_estimates    0.213718\n",
       "standard_error     0.000990\n",
       "Name: 1, dtype: float64"
      ]
     },
     "execution_count": 6,
     "metadata": {},
     "output_type": "execute_result"
    }
   ],
   "source": [
    "mundlak_results = twm.summary()\n",
    "restab = pd.DataFrame(\n",
    "  np.c_[mundlak_results['point_estimate'], mundlak_results['standard_error']],\n",
    "  columns=['point_estimates', 'standard_error'],\n",
    ")\n",
    "restab.iloc[1,:]"
   ]
  },
  {
   "cell_type": "markdown",
   "metadata": {},
   "source": [
    "### manual computation of event study quantities"
   ]
  },
  {
   "cell_type": "code",
   "execution_count": 7,
   "metadata": {},
   "outputs": [
    {
     "data": {
      "text/plain": [
       "{'bootstrap_query': '\\n            SELECT\\n                W_it,\\n                avg_W_it_unit\\n                , avg_W_it_time,\\n                COUNT(*) as count,\\n                SUM(Y_it) as sum_Y_it\\n            FROM design_matrix\\n            WHERE unit_id IN (SELECT unnest((?)))\\n            GROUP BY W_it,\\n                        avg_W_it_unit\\n                        , avg_W_it_time\\n            ',\n",
       " 'compress_query': '\\n        SELECT\\n            W_it,\\n            avg_W_it_unit\\n            , avg_W_it_time,\\n            COUNT(*) as count,\\n            SUM(Y_it) as sum_Y_it\\n        FROM design_matrix\\n        GROUP BY W_it,\\n                    avg_W_it_unit\\n                    , avg_W_it_time\\n        ',\n",
       " 'design_matrix_query': '\\n        CREATE TEMP TABLE design_matrix AS\\n        SELECT\\n            t.unit_id,\\n            t.time_id,\\n            t.Y_it,\\n            t.W_it,\\n            u.avg_W_it_unit\\n            , tm.avg_W_it_time\\n        FROM panel_data t\\n        JOIN unit_avgs u ON t.unit_id = u.unit_id\\n        JOIN time_avgs tm ON t.time_id = tm.time_id\\n        ',\n",
       " 'time_avg_query': '\\n            CREATE TEMP TABLE time_avgs AS\\n            SELECT time_id,\\n                   AVG(W_it) AS avg_W_it_time\\n            FROM panel_data\\n            GROUP BY time_id\\n            ',\n",
       " 'unit_avg_query': '\\n        CREATE TEMP TABLE unit_avgs AS\\n        SELECT unit_id,\\n               AVG(W_it) AS avg_W_it_unit\\n        FROM panel_data\\n        GROUP BY unit_id\\n        '}"
      ]
     },
     "execution_count": 7,
     "metadata": {},
     "output_type": "execute_result"
    }
   ],
   "source": [
    "twm.queries()"
   ]
  },
  {
   "cell_type": "code",
   "execution_count": 20,
   "metadata": {},
   "outputs": [
    {
     "name": "stdout",
     "output_type": "stream",
     "text": [
      "\n",
      "        CREATE TEMP TABLE design_matrix AS\n",
      "        SELECT\n",
      "            t.unit_id,\n",
      "            t.time_id,\n",
      "            t.Y_it,\n",
      "            t.W_it,\n",
      "            u.avg_W_it_unit\n",
      "            , tm.avg_W_it_time\n",
      "        FROM panel_data t\n",
      "        JOIN unit_avgs u ON t.unit_id = u.unit_id\n",
      "        JOIN time_avgs tm ON t.time_id = tm.time_id\n",
      "        \n",
      "\n",
      "        SELECT\n",
      "            W_it,\n",
      "            avg_W_it_unit\n",
      "            , avg_W_it_time,\n",
      "            COUNT(*) as count,\n",
      "            SUM(Y_it) as sum_Y_it\n",
      "        FROM design_matrix\n",
      "        GROUP BY W_it,\n",
      "                    avg_W_it_unit\n",
      "                    , avg_W_it_time\n",
      "        \n"
     ]
    }
   ],
   "source": [
    "print(twm.queries['design_matrix_query'])\n",
    "print(twm.queries['compress_query'])"
   ]
  },
  {
   "cell_type": "code",
   "execution_count": null,
   "metadata": {},
   "outputs": [],
   "source": [
    "qq = \"\"\"\n",
    "        CREATE TEMP TABLE unit_avgs AS\n",
    "        SELECT unit_id,\n",
    "               AVG(W_it) AS avg_W_it_unit\n",
    "        FROM panel_data\n",
    "        GROUP BY unit_id\n",
    "\"\"\""
   ]
  },
  {
   "cell_type": "code",
   "execution_count": 15,
   "metadata": {},
   "outputs": [
    {
     "data": {
      "text/html": [
       "<div>\n",
       "<style scoped>\n",
       "    .dataframe tbody tr th:only-of-type {\n",
       "        vertical-align: middle;\n",
       "    }\n",
       "\n",
       "    .dataframe tbody tr th {\n",
       "        vertical-align: top;\n",
       "    }\n",
       "\n",
       "    .dataframe thead th {\n",
       "        text-align: right;\n",
       "    }\n",
       "</style>\n",
       "<table border=\"1\" class=\"dataframe\">\n",
       "  <thead>\n",
       "    <tr style=\"text-align: right;\">\n",
       "      <th></th>\n",
       "      <th>W_it</th>\n",
       "      <th>avg_W_it_unit</th>\n",
       "      <th>avg_W_it_time</th>\n",
       "      <th>count</th>\n",
       "      <th>sum_Y_it</th>\n",
       "      <th>mean_Y_it</th>\n",
       "    </tr>\n",
       "  </thead>\n",
       "  <tbody>\n",
       "    <tr>\n",
       "      <th>0</th>\n",
       "      <td>0</td>\n",
       "      <td>0.0</td>\n",
       "      <td>0.0</td>\n",
       "      <td>750000</td>\n",
       "      <td>-137074.952220</td>\n",
       "      <td>-0.182767</td>\n",
       "    </tr>\n",
       "    <tr>\n",
       "      <th>1</th>\n",
       "      <td>1</td>\n",
       "      <td>0.5</td>\n",
       "      <td>0.5</td>\n",
       "      <td>750000</td>\n",
       "      <td>529538.118975</td>\n",
       "      <td>0.706051</td>\n",
       "    </tr>\n",
       "    <tr>\n",
       "      <th>2</th>\n",
       "      <td>0</td>\n",
       "      <td>0.0</td>\n",
       "      <td>0.5</td>\n",
       "      <td>750000</td>\n",
       "      <td>350996.605720</td>\n",
       "      <td>0.467995</td>\n",
       "    </tr>\n",
       "    <tr>\n",
       "      <th>3</th>\n",
       "      <td>0</td>\n",
       "      <td>0.5</td>\n",
       "      <td>0.0</td>\n",
       "      <td>750000</td>\n",
       "      <td>-118822.210458</td>\n",
       "      <td>-0.158430</td>\n",
       "    </tr>\n",
       "  </tbody>\n",
       "</table>\n",
       "</div>"
      ],
      "text/plain": [
       "   W_it  avg_W_it_unit  avg_W_it_time   count       sum_Y_it  mean_Y_it\n",
       "0     0            0.0            0.0  750000 -137074.952220  -0.182767\n",
       "1     1            0.5            0.5  750000  529538.118975   0.706051\n",
       "2     0            0.0            0.5  750000  350996.605720   0.467995\n",
       "3     0            0.5            0.0  750000 -118822.210458  -0.158430"
      ]
     },
     "execution_count": 15,
     "metadata": {},
     "output_type": "execute_result"
    }
   ],
   "source": [
    "twm.df_compressed"
   ]
  },
  {
   "cell_type": "code",
   "execution_count": 12,
   "metadata": {},
   "outputs": [
    {
     "name": "stdout",
     "output_type": "stream",
     "text": [
      "\n",
      "        CREATE TEMP TABLE unit_avgs AS\n",
      "        SELECT unit_id,\n",
      "               AVG(W_it) AS avg_W_it_unit\n",
      "        FROM panel_data\n",
      "        GROUP BY unit_id\n",
      "        \n"
     ]
    }
   ],
   "source": [
    "print(twm.queries['unit_avg_query'])"
   ]
  }
 ],
 "metadata": {
  "kernelspec": {
   "display_name": "econometrics",
   "language": "python",
   "name": "python3"
  },
  "language_info": {
   "codemirror_mode": {
    "name": "ipython",
    "version": 3
   },
   "file_extension": ".py",
   "mimetype": "text/x-python",
   "name": "python",
   "nbconvert_exporter": "python",
   "pygments_lexer": "ipython3",
   "version": "3.12.4"
  }
 },
 "nbformat": 4,
 "nbformat_minor": 2
}
